{
 "cells": [
  {
   "cell_type": "code",
   "execution_count": 64,
   "id": "2bf1dfcf-0632-48c2-b7cb-793faeddc372",
   "metadata": {},
   "outputs": [],
   "source": [
    "import pandas as pd\n",
    "import numpy as np\n",
    "from sklearn.model_selection import train_test_split\n",
    "from sklearn.impute import SimpleImputer\n",
    "from sklearn.preprocessing import StandardScaler\n",
    "from sklearn.neighbors import KNeighborsClassifier\n",
    "from sklearn.metrics import classification_report, ConfusionMatrixDisplay\n",
    "import matplotlib.pyplot as plt\n",
    "from sklearn.decomposition import PCA"
   ]
  },
  {
   "cell_type": "markdown",
   "id": "9c26d805-1760-464f-bbd9-95db4caf6127",
   "metadata": {},
   "source": [
    "### 1. Load the data"
   ]
  },
  {
   "cell_type": "code",
   "execution_count": 41,
   "id": "207b644a-f78f-4af6-83c5-17001e3aa83a",
   "metadata": {},
   "outputs": [
    {
     "data": {
      "text/html": [
       "<div>\n",
       "<style scoped>\n",
       "    .dataframe tbody tr th:only-of-type {\n",
       "        vertical-align: middle;\n",
       "    }\n",
       "\n",
       "    .dataframe tbody tr th {\n",
       "        vertical-align: top;\n",
       "    }\n",
       "\n",
       "    .dataframe thead th {\n",
       "        text-align: right;\n",
       "    }\n",
       "</style>\n",
       "<table border=\"1\" class=\"dataframe\">\n",
       "  <thead>\n",
       "    <tr style=\"text-align: right;\">\n",
       "      <th></th>\n",
       "      <th>SEQN</th>\n",
       "      <th>WTDRD1</th>\n",
       "      <th>WTDR2D</th>\n",
       "      <th>DR1DRSTZ</th>\n",
       "      <th>DR1EXMER</th>\n",
       "      <th>DRABF</th>\n",
       "      <th>DRDINT</th>\n",
       "      <th>DR1DBIH</th>\n",
       "      <th>DR1DAY</th>\n",
       "      <th>DR1LANG</th>\n",
       "      <th>...</th>\n",
       "      <th>DRD370R</th>\n",
       "      <th>DRD370RQ</th>\n",
       "      <th>DRD370S</th>\n",
       "      <th>DRD370SQ</th>\n",
       "      <th>DRD370T</th>\n",
       "      <th>DRD370TQ</th>\n",
       "      <th>DRD370U</th>\n",
       "      <th>DRD370UQ</th>\n",
       "      <th>DRD370V</th>\n",
       "      <th>Diabetes_Risk</th>\n",
       "    </tr>\n",
       "  </thead>\n",
       "  <tbody>\n",
       "    <tr>\n",
       "      <th>0</th>\n",
       "      <td>73557</td>\n",
       "      <td>16888.32786</td>\n",
       "      <td>12930.89065</td>\n",
       "      <td>1</td>\n",
       "      <td>49.0</td>\n",
       "      <td>2.0</td>\n",
       "      <td>2.0</td>\n",
       "      <td>6.0</td>\n",
       "      <td>2.0</td>\n",
       "      <td>1.0</td>\n",
       "      <td>...</td>\n",
       "      <td>NaN</td>\n",
       "      <td>NaN</td>\n",
       "      <td>NaN</td>\n",
       "      <td>NaN</td>\n",
       "      <td>NaN</td>\n",
       "      <td>NaN</td>\n",
       "      <td>NaN</td>\n",
       "      <td>NaN</td>\n",
       "      <td>NaN</td>\n",
       "      <td>2</td>\n",
       "    </tr>\n",
       "    <tr>\n",
       "      <th>1</th>\n",
       "      <td>73558</td>\n",
       "      <td>17932.14387</td>\n",
       "      <td>12684.14887</td>\n",
       "      <td>1</td>\n",
       "      <td>59.0</td>\n",
       "      <td>2.0</td>\n",
       "      <td>2.0</td>\n",
       "      <td>4.0</td>\n",
       "      <td>1.0</td>\n",
       "      <td>1.0</td>\n",
       "      <td>...</td>\n",
       "      <td>2.0</td>\n",
       "      <td>NaN</td>\n",
       "      <td>2.0</td>\n",
       "      <td>NaN</td>\n",
       "      <td>2.0</td>\n",
       "      <td>NaN</td>\n",
       "      <td>2.0</td>\n",
       "      <td>NaN</td>\n",
       "      <td>2.0</td>\n",
       "      <td>2</td>\n",
       "    </tr>\n",
       "    <tr>\n",
       "      <th>2</th>\n",
       "      <td>73559</td>\n",
       "      <td>59641.81293</td>\n",
       "      <td>39394.23671</td>\n",
       "      <td>1</td>\n",
       "      <td>49.0</td>\n",
       "      <td>2.0</td>\n",
       "      <td>2.0</td>\n",
       "      <td>18.0</td>\n",
       "      <td>6.0</td>\n",
       "      <td>1.0</td>\n",
       "      <td>...</td>\n",
       "      <td>NaN</td>\n",
       "      <td>NaN</td>\n",
       "      <td>NaN</td>\n",
       "      <td>NaN</td>\n",
       "      <td>NaN</td>\n",
       "      <td>NaN</td>\n",
       "      <td>NaN</td>\n",
       "      <td>NaN</td>\n",
       "      <td>NaN</td>\n",
       "      <td>2</td>\n",
       "    </tr>\n",
       "    <tr>\n",
       "      <th>3</th>\n",
       "      <td>73561</td>\n",
       "      <td>59052.35703</td>\n",
       "      <td>39004.89299</td>\n",
       "      <td>1</td>\n",
       "      <td>63.0</td>\n",
       "      <td>2.0</td>\n",
       "      <td>2.0</td>\n",
       "      <td>18.0</td>\n",
       "      <td>1.0</td>\n",
       "      <td>1.0</td>\n",
       "      <td>...</td>\n",
       "      <td>2.0</td>\n",
       "      <td>NaN</td>\n",
       "      <td>2.0</td>\n",
       "      <td>NaN</td>\n",
       "      <td>2.0</td>\n",
       "      <td>NaN</td>\n",
       "      <td>2.0</td>\n",
       "      <td>NaN</td>\n",
       "      <td>2.0</td>\n",
       "      <td>0</td>\n",
       "    </tr>\n",
       "    <tr>\n",
       "      <th>4</th>\n",
       "      <td>73562</td>\n",
       "      <td>49890.82866</td>\n",
       "      <td>0.00000</td>\n",
       "      <td>1</td>\n",
       "      <td>49.0</td>\n",
       "      <td>2.0</td>\n",
       "      <td>1.0</td>\n",
       "      <td>11.0</td>\n",
       "      <td>3.0</td>\n",
       "      <td>1.0</td>\n",
       "      <td>...</td>\n",
       "      <td>2.0</td>\n",
       "      <td>NaN</td>\n",
       "      <td>2.0</td>\n",
       "      <td>NaN</td>\n",
       "      <td>2.0</td>\n",
       "      <td>NaN</td>\n",
       "      <td>2.0</td>\n",
       "      <td>NaN</td>\n",
       "      <td>2.0</td>\n",
       "      <td>0</td>\n",
       "    </tr>\n",
       "  </tbody>\n",
       "</table>\n",
       "<p>5 rows × 169 columns</p>\n",
       "</div>"
      ],
      "text/plain": [
       "    SEQN       WTDRD1       WTDR2D  DR1DRSTZ  DR1EXMER  DRABF  DRDINT  \\\n",
       "0  73557  16888.32786  12930.89065         1      49.0    2.0     2.0   \n",
       "1  73558  17932.14387  12684.14887         1      59.0    2.0     2.0   \n",
       "2  73559  59641.81293  39394.23671         1      49.0    2.0     2.0   \n",
       "3  73561  59052.35703  39004.89299         1      63.0    2.0     2.0   \n",
       "4  73562  49890.82866      0.00000         1      49.0    2.0     1.0   \n",
       "\n",
       "   DR1DBIH  DR1DAY  DR1LANG  ...  DRD370R  DRD370RQ  DRD370S  DRD370SQ  \\\n",
       "0      6.0     2.0      1.0  ...      NaN       NaN      NaN       NaN   \n",
       "1      4.0     1.0      1.0  ...      2.0       NaN      2.0       NaN   \n",
       "2     18.0     6.0      1.0  ...      NaN       NaN      NaN       NaN   \n",
       "3     18.0     1.0      1.0  ...      2.0       NaN      2.0       NaN   \n",
       "4     11.0     3.0      1.0  ...      2.0       NaN      2.0       NaN   \n",
       "\n",
       "   DRD370T  DRD370TQ  DRD370U  DRD370UQ  DRD370V  Diabetes_Risk  \n",
       "0      NaN       NaN      NaN       NaN      NaN              2  \n",
       "1      2.0       NaN      2.0       NaN      2.0              2  \n",
       "2      NaN       NaN      NaN       NaN      NaN              2  \n",
       "3      2.0       NaN      2.0       NaN      2.0              0  \n",
       "4      2.0       NaN      2.0       NaN      2.0              0  \n",
       "\n",
       "[5 rows x 169 columns]"
      ]
     },
     "execution_count": 41,
     "metadata": {},
     "output_type": "execute_result"
    }
   ],
   "source": [
    "df_Diabetes=pd.read_csv(\"C:/Users/Dell/Downloads/NHANES_Diet_Diabetes_Risk.xls.csv\")\n",
    "df_Diabetes.head(5)"
   ]
  },
  {
   "cell_type": "markdown",
   "id": "3345577e-49df-4da0-9a36-1e3df854cee4",
   "metadata": {},
   "source": [
    "### 2. Preprocess the Data"
   ]
  },
  {
   "cell_type": "code",
   "execution_count": 42,
   "id": "ea747b43-8fe5-4eba-99b5-926b34f0a770",
   "metadata": {},
   "outputs": [
    {
     "data": {
      "text/html": [
       "<div>\n",
       "<style scoped>\n",
       "    .dataframe tbody tr th:only-of-type {\n",
       "        vertical-align: middle;\n",
       "    }\n",
       "\n",
       "    .dataframe tbody tr th {\n",
       "        vertical-align: top;\n",
       "    }\n",
       "\n",
       "    .dataframe thead th {\n",
       "        text-align: right;\n",
       "    }\n",
       "</style>\n",
       "<table border=\"1\" class=\"dataframe\">\n",
       "  <thead>\n",
       "    <tr style=\"text-align: right;\">\n",
       "      <th></th>\n",
       "      <th>WTDRD1</th>\n",
       "      <th>WTDR2D</th>\n",
       "      <th>DR1DRSTZ</th>\n",
       "      <th>DR1EXMER</th>\n",
       "      <th>DRABF</th>\n",
       "      <th>DRDINT</th>\n",
       "      <th>DR1DBIH</th>\n",
       "      <th>DR1DAY</th>\n",
       "      <th>DR1LANG</th>\n",
       "      <th>DR1MNRSP</th>\n",
       "      <th>...</th>\n",
       "      <th>DRD370R</th>\n",
       "      <th>DRD370RQ</th>\n",
       "      <th>DRD370S</th>\n",
       "      <th>DRD370SQ</th>\n",
       "      <th>DRD370T</th>\n",
       "      <th>DRD370TQ</th>\n",
       "      <th>DRD370U</th>\n",
       "      <th>DRD370UQ</th>\n",
       "      <th>DRD370V</th>\n",
       "      <th>Diabetes_Risk</th>\n",
       "    </tr>\n",
       "    <tr>\n",
       "      <th>SEQN</th>\n",
       "      <th></th>\n",
       "      <th></th>\n",
       "      <th></th>\n",
       "      <th></th>\n",
       "      <th></th>\n",
       "      <th></th>\n",
       "      <th></th>\n",
       "      <th></th>\n",
       "      <th></th>\n",
       "      <th></th>\n",
       "      <th></th>\n",
       "      <th></th>\n",
       "      <th></th>\n",
       "      <th></th>\n",
       "      <th></th>\n",
       "      <th></th>\n",
       "      <th></th>\n",
       "      <th></th>\n",
       "      <th></th>\n",
       "      <th></th>\n",
       "      <th></th>\n",
       "    </tr>\n",
       "  </thead>\n",
       "  <tbody>\n",
       "    <tr>\n",
       "      <th>73557</th>\n",
       "      <td>16888.32786</td>\n",
       "      <td>12930.89065</td>\n",
       "      <td>1</td>\n",
       "      <td>49.0</td>\n",
       "      <td>2.0</td>\n",
       "      <td>2.0</td>\n",
       "      <td>6.0</td>\n",
       "      <td>2.0</td>\n",
       "      <td>1.0</td>\n",
       "      <td>1.0</td>\n",
       "      <td>...</td>\n",
       "      <td>NaN</td>\n",
       "      <td>NaN</td>\n",
       "      <td>NaN</td>\n",
       "      <td>NaN</td>\n",
       "      <td>NaN</td>\n",
       "      <td>NaN</td>\n",
       "      <td>NaN</td>\n",
       "      <td>NaN</td>\n",
       "      <td>NaN</td>\n",
       "      <td>2</td>\n",
       "    </tr>\n",
       "    <tr>\n",
       "      <th>73558</th>\n",
       "      <td>17932.14387</td>\n",
       "      <td>12684.14887</td>\n",
       "      <td>1</td>\n",
       "      <td>59.0</td>\n",
       "      <td>2.0</td>\n",
       "      <td>2.0</td>\n",
       "      <td>4.0</td>\n",
       "      <td>1.0</td>\n",
       "      <td>1.0</td>\n",
       "      <td>1.0</td>\n",
       "      <td>...</td>\n",
       "      <td>2.0</td>\n",
       "      <td>NaN</td>\n",
       "      <td>2.0</td>\n",
       "      <td>NaN</td>\n",
       "      <td>2.0</td>\n",
       "      <td>NaN</td>\n",
       "      <td>2.0</td>\n",
       "      <td>NaN</td>\n",
       "      <td>2.0</td>\n",
       "      <td>2</td>\n",
       "    </tr>\n",
       "    <tr>\n",
       "      <th>73559</th>\n",
       "      <td>59641.81293</td>\n",
       "      <td>39394.23671</td>\n",
       "      <td>1</td>\n",
       "      <td>49.0</td>\n",
       "      <td>2.0</td>\n",
       "      <td>2.0</td>\n",
       "      <td>18.0</td>\n",
       "      <td>6.0</td>\n",
       "      <td>1.0</td>\n",
       "      <td>1.0</td>\n",
       "      <td>...</td>\n",
       "      <td>NaN</td>\n",
       "      <td>NaN</td>\n",
       "      <td>NaN</td>\n",
       "      <td>NaN</td>\n",
       "      <td>NaN</td>\n",
       "      <td>NaN</td>\n",
       "      <td>NaN</td>\n",
       "      <td>NaN</td>\n",
       "      <td>NaN</td>\n",
       "      <td>2</td>\n",
       "    </tr>\n",
       "    <tr>\n",
       "      <th>73561</th>\n",
       "      <td>59052.35703</td>\n",
       "      <td>39004.89299</td>\n",
       "      <td>1</td>\n",
       "      <td>63.0</td>\n",
       "      <td>2.0</td>\n",
       "      <td>2.0</td>\n",
       "      <td>18.0</td>\n",
       "      <td>1.0</td>\n",
       "      <td>1.0</td>\n",
       "      <td>1.0</td>\n",
       "      <td>...</td>\n",
       "      <td>2.0</td>\n",
       "      <td>NaN</td>\n",
       "      <td>2.0</td>\n",
       "      <td>NaN</td>\n",
       "      <td>2.0</td>\n",
       "      <td>NaN</td>\n",
       "      <td>2.0</td>\n",
       "      <td>NaN</td>\n",
       "      <td>2.0</td>\n",
       "      <td>0</td>\n",
       "    </tr>\n",
       "    <tr>\n",
       "      <th>73562</th>\n",
       "      <td>49890.82866</td>\n",
       "      <td>0.00000</td>\n",
       "      <td>1</td>\n",
       "      <td>49.0</td>\n",
       "      <td>2.0</td>\n",
       "      <td>1.0</td>\n",
       "      <td>11.0</td>\n",
       "      <td>3.0</td>\n",
       "      <td>1.0</td>\n",
       "      <td>1.0</td>\n",
       "      <td>...</td>\n",
       "      <td>2.0</td>\n",
       "      <td>NaN</td>\n",
       "      <td>2.0</td>\n",
       "      <td>NaN</td>\n",
       "      <td>2.0</td>\n",
       "      <td>NaN</td>\n",
       "      <td>2.0</td>\n",
       "      <td>NaN</td>\n",
       "      <td>2.0</td>\n",
       "      <td>0</td>\n",
       "    </tr>\n",
       "  </tbody>\n",
       "</table>\n",
       "<p>5 rows × 168 columns</p>\n",
       "</div>"
      ],
      "text/plain": [
       "            WTDRD1       WTDR2D  DR1DRSTZ  DR1EXMER  DRABF  DRDINT  DR1DBIH  \\\n",
       "SEQN                                                                          \n",
       "73557  16888.32786  12930.89065         1      49.0    2.0     2.0      6.0   \n",
       "73558  17932.14387  12684.14887         1      59.0    2.0     2.0      4.0   \n",
       "73559  59641.81293  39394.23671         1      49.0    2.0     2.0     18.0   \n",
       "73561  59052.35703  39004.89299         1      63.0    2.0     2.0     18.0   \n",
       "73562  49890.82866      0.00000         1      49.0    2.0     1.0     11.0   \n",
       "\n",
       "       DR1DAY  DR1LANG  DR1MNRSP  ...  DRD370R  DRD370RQ  DRD370S  DRD370SQ  \\\n",
       "SEQN                              ...                                         \n",
       "73557     2.0      1.0       1.0  ...      NaN       NaN      NaN       NaN   \n",
       "73558     1.0      1.0       1.0  ...      2.0       NaN      2.0       NaN   \n",
       "73559     6.0      1.0       1.0  ...      NaN       NaN      NaN       NaN   \n",
       "73561     1.0      1.0       1.0  ...      2.0       NaN      2.0       NaN   \n",
       "73562     3.0      1.0       1.0  ...      2.0       NaN      2.0       NaN   \n",
       "\n",
       "       DRD370T  DRD370TQ  DRD370U  DRD370UQ  DRD370V  Diabetes_Risk  \n",
       "SEQN                                                                 \n",
       "73557      NaN       NaN      NaN       NaN      NaN              2  \n",
       "73558      2.0       NaN      2.0       NaN      2.0              2  \n",
       "73559      NaN       NaN      NaN       NaN      NaN              2  \n",
       "73561      2.0       NaN      2.0       NaN      2.0              0  \n",
       "73562      2.0       NaN      2.0       NaN      2.0              0  \n",
       "\n",
       "[5 rows x 168 columns]"
      ]
     },
     "execution_count": 42,
     "metadata": {},
     "output_type": "execute_result"
    }
   ],
   "source": [
    "#Set SEQN as the index\n",
    "df_Diabetes=df_Diabetes.set_index('SEQN')\n",
    "df_Diabetes.head(5)"
   ]
  },
  {
   "cell_type": "code",
   "execution_count": 43,
   "id": "0f4c06bb-419e-4723-ba7b-db224c52540d",
   "metadata": {},
   "outputs": [
    {
     "data": {
      "text/plain": [
       "Index(['WTDRD1', 'WTDR2D', 'DR1DRSTZ', 'DR1EXMER', 'DRABF', 'DRDINT',\n",
       "       'DR1DBIH', 'DR1DAY', 'DR1LANG', 'DR1MNRSP',\n",
       "       ...\n",
       "       'DRD370R', 'DRD370RQ', 'DRD370S', 'DRD370SQ', 'DRD370T', 'DRD370TQ',\n",
       "       'DRD370U', 'DRD370UQ', 'DRD370V', 'Diabetes_Risk'],\n",
       "      dtype='object', length=168)"
      ]
     },
     "execution_count": 43,
     "metadata": {},
     "output_type": "execute_result"
    }
   ],
   "source": [
    "df_Diabetes.columns"
   ]
  },
  {
   "cell_type": "code",
   "execution_count": 76,
   "id": "550c45ed-a16f-42d9-974a-0e0c8b2692bc",
   "metadata": {},
   "outputs": [
    {
     "data": {
      "text/plain": [
       "(6643, 168)"
      ]
     },
     "execution_count": 76,
     "metadata": {},
     "output_type": "execute_result"
    }
   ],
   "source": [
    "df_Diabetes.shape"
   ]
  },
  {
   "cell_type": "code",
   "execution_count": 48,
   "id": "47ce91b2-9954-467c-819c-e8249541bd0c",
   "metadata": {},
   "outputs": [],
   "source": [
    "#Train Test Split\n",
    "y=df_Diabetes['Diabetes_Risk']\n",
    "x=df_Diabetes.drop(columns='Diabetes_Risk')\n",
    "trainx, testx, trainy, testy = train_test_split(x,y, random_state=42)"
   ]
  },
  {
   "cell_type": "code",
   "execution_count": 49,
   "id": "c7d97212-dd34-43be-8b92-487304eae19d",
   "metadata": {},
   "outputs": [
    {
     "data": {
      "text/html": [
       "<style>#sk-container-id-5 {color: black;background-color: white;}#sk-container-id-5 pre{padding: 0;}#sk-container-id-5 div.sk-toggleable {background-color: white;}#sk-container-id-5 label.sk-toggleable__label {cursor: pointer;display: block;width: 100%;margin-bottom: 0;padding: 0.3em;box-sizing: border-box;text-align: center;}#sk-container-id-5 label.sk-toggleable__label-arrow:before {content: \"▸\";float: left;margin-right: 0.25em;color: #696969;}#sk-container-id-5 label.sk-toggleable__label-arrow:hover:before {color: black;}#sk-container-id-5 div.sk-estimator:hover label.sk-toggleable__label-arrow:before {color: black;}#sk-container-id-5 div.sk-toggleable__content {max-height: 0;max-width: 0;overflow: hidden;text-align: left;background-color: #f0f8ff;}#sk-container-id-5 div.sk-toggleable__content pre {margin: 0.2em;color: black;border-radius: 0.25em;background-color: #f0f8ff;}#sk-container-id-5 input.sk-toggleable__control:checked~div.sk-toggleable__content {max-height: 200px;max-width: 100%;overflow: auto;}#sk-container-id-5 input.sk-toggleable__control:checked~label.sk-toggleable__label-arrow:before {content: \"▾\";}#sk-container-id-5 div.sk-estimator input.sk-toggleable__control:checked~label.sk-toggleable__label {background-color: #d4ebff;}#sk-container-id-5 div.sk-label input.sk-toggleable__control:checked~label.sk-toggleable__label {background-color: #d4ebff;}#sk-container-id-5 input.sk-hidden--visually {border: 0;clip: rect(1px 1px 1px 1px);clip: rect(1px, 1px, 1px, 1px);height: 1px;margin: -1px;overflow: hidden;padding: 0;position: absolute;width: 1px;}#sk-container-id-5 div.sk-estimator {font-family: monospace;background-color: #f0f8ff;border: 1px dotted black;border-radius: 0.25em;box-sizing: border-box;margin-bottom: 0.5em;}#sk-container-id-5 div.sk-estimator:hover {background-color: #d4ebff;}#sk-container-id-5 div.sk-parallel-item::after {content: \"\";width: 100%;border-bottom: 1px solid gray;flex-grow: 1;}#sk-container-id-5 div.sk-label:hover label.sk-toggleable__label {background-color: #d4ebff;}#sk-container-id-5 div.sk-serial::before {content: \"\";position: absolute;border-left: 1px solid gray;box-sizing: border-box;top: 0;bottom: 0;left: 50%;z-index: 0;}#sk-container-id-5 div.sk-serial {display: flex;flex-direction: column;align-items: center;background-color: white;padding-right: 0.2em;padding-left: 0.2em;position: relative;}#sk-container-id-5 div.sk-item {position: relative;z-index: 1;}#sk-container-id-5 div.sk-parallel {display: flex;align-items: stretch;justify-content: center;background-color: white;position: relative;}#sk-container-id-5 div.sk-item::before, #sk-container-id-5 div.sk-parallel-item::before {content: \"\";position: absolute;border-left: 1px solid gray;box-sizing: border-box;top: 0;bottom: 0;left: 50%;z-index: -1;}#sk-container-id-5 div.sk-parallel-item {display: flex;flex-direction: column;z-index: 1;position: relative;background-color: white;}#sk-container-id-5 div.sk-parallel-item:first-child::after {align-self: flex-end;width: 50%;}#sk-container-id-5 div.sk-parallel-item:last-child::after {align-self: flex-start;width: 50%;}#sk-container-id-5 div.sk-parallel-item:only-child::after {width: 0;}#sk-container-id-5 div.sk-dashed-wrapped {border: 1px dashed gray;margin: 0 0.4em 0.5em 0.4em;box-sizing: border-box;padding-bottom: 0.4em;background-color: white;}#sk-container-id-5 div.sk-label label {font-family: monospace;font-weight: bold;display: inline-block;line-height: 1.2em;}#sk-container-id-5 div.sk-label-container {text-align: center;}#sk-container-id-5 div.sk-container {/* jupyter's `normalize.less` sets `[hidden] { display: none; }` but bootstrap.min.css set `[hidden] { display: none !important; }` so we also need the `!important` here to be able to override the default hidden behavior on the sphinx rendered scikit-learn.org. See: https://github.com/scikit-learn/scikit-learn/issues/21755 */display: inline-block !important;position: relative;}#sk-container-id-5 div.sk-text-repr-fallback {display: none;}</style><div id=\"sk-container-id-5\" class=\"sk-top-container\"><div class=\"sk-text-repr-fallback\"><pre>SimpleImputer(strategy=&#x27;median&#x27;)</pre><b>In a Jupyter environment, please rerun this cell to show the HTML representation or trust the notebook. <br />On GitHub, the HTML representation is unable to render, please try loading this page with nbviewer.org.</b></div><div class=\"sk-container\" hidden><div class=\"sk-item\"><div class=\"sk-estimator sk-toggleable\"><input class=\"sk-toggleable__control sk-hidden--visually\" id=\"sk-estimator-id-5\" type=\"checkbox\" checked><label for=\"sk-estimator-id-5\" class=\"sk-toggleable__label sk-toggleable__label-arrow\">SimpleImputer</label><div class=\"sk-toggleable__content\"><pre>SimpleImputer(strategy=&#x27;median&#x27;)</pre></div></div></div></div></div>"
      ],
      "text/plain": [
       "SimpleImputer(strategy='median')"
      ]
     },
     "execution_count": 49,
     "metadata": {},
     "output_type": "execute_result"
    }
   ],
   "source": [
    "#Impute Missing Values with the median value\n",
    "imputer = SimpleImputer(missing_values = np.nan, strategy ='median')\n",
    "imputer.fit(trainx)"
   ]
  },
  {
   "cell_type": "code",
   "execution_count": 50,
   "id": "bfdba98d-d2f2-44f3-8ca5-9d4c8a62c484",
   "metadata": {},
   "outputs": [],
   "source": [
    "trainx_tf=imputer.transform(trainx)"
   ]
  },
  {
   "cell_type": "code",
   "execution_count": 51,
   "id": "e38c6f2d-e92f-4e2a-8ea7-74cecf67fda0",
   "metadata": {},
   "outputs": [],
   "source": [
    "testx_tf=imputer.transform(testx)"
   ]
  },
  {
   "cell_type": "code",
   "execution_count": 54,
   "id": "c78809d3-03c8-487b-9315-3dd70fef9551",
   "metadata": {},
   "outputs": [],
   "source": [
    "#Scale\n",
    "scale = StandardScaler()\n",
    "scale.fit(trainx_tf)\n",
    "trainx_tf=scale.transform(trainx_tf)\n",
    "testx_tf=scale.transform(testx_tf)"
   ]
  },
  {
   "cell_type": "markdown",
   "id": "cda4b6b2-6afe-483a-9619-80164ae4d9e7",
   "metadata": {},
   "source": [
    "### 3. Model - No PCA"
   ]
  },
  {
   "cell_type": "code",
   "execution_count": 56,
   "id": "42b38b37-92b6-46eb-aef9-b626e96f1746",
   "metadata": {},
   "outputs": [
    {
     "data": {
      "text/html": [
       "<style>#sk-container-id-6 {color: black;background-color: white;}#sk-container-id-6 pre{padding: 0;}#sk-container-id-6 div.sk-toggleable {background-color: white;}#sk-container-id-6 label.sk-toggleable__label {cursor: pointer;display: block;width: 100%;margin-bottom: 0;padding: 0.3em;box-sizing: border-box;text-align: center;}#sk-container-id-6 label.sk-toggleable__label-arrow:before {content: \"▸\";float: left;margin-right: 0.25em;color: #696969;}#sk-container-id-6 label.sk-toggleable__label-arrow:hover:before {color: black;}#sk-container-id-6 div.sk-estimator:hover label.sk-toggleable__label-arrow:before {color: black;}#sk-container-id-6 div.sk-toggleable__content {max-height: 0;max-width: 0;overflow: hidden;text-align: left;background-color: #f0f8ff;}#sk-container-id-6 div.sk-toggleable__content pre {margin: 0.2em;color: black;border-radius: 0.25em;background-color: #f0f8ff;}#sk-container-id-6 input.sk-toggleable__control:checked~div.sk-toggleable__content {max-height: 200px;max-width: 100%;overflow: auto;}#sk-container-id-6 input.sk-toggleable__control:checked~label.sk-toggleable__label-arrow:before {content: \"▾\";}#sk-container-id-6 div.sk-estimator input.sk-toggleable__control:checked~label.sk-toggleable__label {background-color: #d4ebff;}#sk-container-id-6 div.sk-label input.sk-toggleable__control:checked~label.sk-toggleable__label {background-color: #d4ebff;}#sk-container-id-6 input.sk-hidden--visually {border: 0;clip: rect(1px 1px 1px 1px);clip: rect(1px, 1px, 1px, 1px);height: 1px;margin: -1px;overflow: hidden;padding: 0;position: absolute;width: 1px;}#sk-container-id-6 div.sk-estimator {font-family: monospace;background-color: #f0f8ff;border: 1px dotted black;border-radius: 0.25em;box-sizing: border-box;margin-bottom: 0.5em;}#sk-container-id-6 div.sk-estimator:hover {background-color: #d4ebff;}#sk-container-id-6 div.sk-parallel-item::after {content: \"\";width: 100%;border-bottom: 1px solid gray;flex-grow: 1;}#sk-container-id-6 div.sk-label:hover label.sk-toggleable__label {background-color: #d4ebff;}#sk-container-id-6 div.sk-serial::before {content: \"\";position: absolute;border-left: 1px solid gray;box-sizing: border-box;top: 0;bottom: 0;left: 50%;z-index: 0;}#sk-container-id-6 div.sk-serial {display: flex;flex-direction: column;align-items: center;background-color: white;padding-right: 0.2em;padding-left: 0.2em;position: relative;}#sk-container-id-6 div.sk-item {position: relative;z-index: 1;}#sk-container-id-6 div.sk-parallel {display: flex;align-items: stretch;justify-content: center;background-color: white;position: relative;}#sk-container-id-6 div.sk-item::before, #sk-container-id-6 div.sk-parallel-item::before {content: \"\";position: absolute;border-left: 1px solid gray;box-sizing: border-box;top: 0;bottom: 0;left: 50%;z-index: -1;}#sk-container-id-6 div.sk-parallel-item {display: flex;flex-direction: column;z-index: 1;position: relative;background-color: white;}#sk-container-id-6 div.sk-parallel-item:first-child::after {align-self: flex-end;width: 50%;}#sk-container-id-6 div.sk-parallel-item:last-child::after {align-self: flex-start;width: 50%;}#sk-container-id-6 div.sk-parallel-item:only-child::after {width: 0;}#sk-container-id-6 div.sk-dashed-wrapped {border: 1px dashed gray;margin: 0 0.4em 0.5em 0.4em;box-sizing: border-box;padding-bottom: 0.4em;background-color: white;}#sk-container-id-6 div.sk-label label {font-family: monospace;font-weight: bold;display: inline-block;line-height: 1.2em;}#sk-container-id-6 div.sk-label-container {text-align: center;}#sk-container-id-6 div.sk-container {/* jupyter's `normalize.less` sets `[hidden] { display: none; }` but bootstrap.min.css set `[hidden] { display: none !important; }` so we also need the `!important` here to be able to override the default hidden behavior on the sphinx rendered scikit-learn.org. See: https://github.com/scikit-learn/scikit-learn/issues/21755 */display: inline-block !important;position: relative;}#sk-container-id-6 div.sk-text-repr-fallback {display: none;}</style><div id=\"sk-container-id-6\" class=\"sk-top-container\"><div class=\"sk-text-repr-fallback\"><pre>KNeighborsClassifier()</pre><b>In a Jupyter environment, please rerun this cell to show the HTML representation or trust the notebook. <br />On GitHub, the HTML representation is unable to render, please try loading this page with nbviewer.org.</b></div><div class=\"sk-container\" hidden><div class=\"sk-item\"><div class=\"sk-estimator sk-toggleable\"><input class=\"sk-toggleable__control sk-hidden--visually\" id=\"sk-estimator-id-6\" type=\"checkbox\" checked><label for=\"sk-estimator-id-6\" class=\"sk-toggleable__label sk-toggleable__label-arrow\">KNeighborsClassifier</label><div class=\"sk-toggleable__content\"><pre>KNeighborsClassifier()</pre></div></div></div></div></div>"
      ],
      "text/plain": [
       "KNeighborsClassifier()"
      ]
     },
     "execution_count": 56,
     "metadata": {},
     "output_type": "execute_result"
    }
   ],
   "source": [
    "#Fit a default KNN model to the data.\n",
    "neigh = KNeighborsClassifier()\n",
    "neigh.fit(trainx_tf, trainy)"
   ]
  },
  {
   "cell_type": "code",
   "execution_count": 57,
   "id": "9f4cf457-26eb-47f9-af16-90a6972e39a1",
   "metadata": {},
   "outputs": [
    {
     "name": "stdout",
     "output_type": "stream",
     "text": [
      "CPU times: total: 4.92 s\n",
      "Wall time: 1.24 s\n"
     ]
    }
   ],
   "source": [
    "%%time\n",
    "preds_train = neigh.predict(trainx_tf)\n",
    "preds_test = neigh.predict(testx_tf)"
   ]
  },
  {
   "cell_type": "code",
   "execution_count": 58,
   "id": "8758d8fa-44e4-4de4-ba6e-14fe6c80951d",
   "metadata": {},
   "outputs": [],
   "source": [
    "#Evaluate the model using multiple appropriate metrics\n",
    "#Custom Function"
   ]
  },
  {
   "cell_type": "code",
   "execution_count": 60,
   "id": "63371605-1453-4a63-8b55-b29fe9b7bf45",
   "metadata": {},
   "outputs": [],
   "source": [
    "def classification_metrics(y_true, y_pred, label='',\n",
    "                           output_dict=False, figsize=(8,4),\n",
    "                           normalize='true', cmap='Blues',\n",
    "                           colorbar=False):\n",
    "    # Get the classification report\n",
    "    report = classification_report(y_true, y_pred)\n",
    "    ## Print header and report\n",
    "    header = \"-\"*70\n",
    "    print(header, f\" Classification Metrics: {label}\", header, sep='\\n')\n",
    "    print(report)\n",
    "    ## CONFUSION MATRICES SUBPLOTS\n",
    "    fig, axes = plt.subplots(ncols=2, figsize=figsize)\n",
    "    # create a confusion matrix  of raw counts\n",
    "    ConfusionMatrixDisplay.from_predictions(y_true, y_pred,\n",
    "                normalize=None, cmap='gist_gray', colorbar=colorbar,\n",
    "                ax = axes[0],);\n",
    "    axes[0].set_title(\"Raw Counts\")\n",
    "    # create a confusion matrix with the test data\n",
    "    ConfusionMatrixDisplay.from_predictions(y_true, y_pred,\n",
    "                normalize=normalize, cmap=cmap, colorbar=colorbar,\n",
    "                ax = axes[1]);\n",
    "    axes[1].set_title(\"Normalized Confusion Matrix\")\n",
    "    # Adjust layout and show figure\n",
    "    fig.tight_layout()\n",
    "    plt.show()\n",
    "    # Return dictionary of classification_report\n",
    "    if output_dict==True:\n",
    "        report_dict = classification_report(y_true, y_pred, output_dict=True)\n",
    "        return report_dict"
   ]
  },
  {
   "cell_type": "code",
   "execution_count": 59,
   "id": "5697caa3-bd10-40a5-9c15-2218b9f32192",
   "metadata": {},
   "outputs": [],
   "source": [
    "def evaluate_classification(model, X_train, y_train, X_test, y_test,\n",
    "                         figsize=(6,4), normalize='true', output_dict = False,\n",
    "                            cmap_train='Blues', cmap_test=\"Reds\",colorbar=False):\n",
    "    # Get predictions for training data\n",
    "    y_train_pred = model.predict(X_train)\n",
    "    # Call the helper function to obtain regression metrics for training data\n",
    "    results_train = classification_metrics(y_train, y_train_pred, #verbose = verbose,\n",
    "                                     output_dict=True, figsize=figsize,\n",
    "                                         colorbar=colorbar, cmap=cmap_train,\n",
    "                                     label='Training Data')\n",
    "    print()\n",
    "    # Get predictions for test data\n",
    "    y_test_pred = model.predict(X_test)\n",
    "    # Call the helper function to obtain regression metrics for test data\n",
    "    results_test = classification_metrics(y_test, y_test_pred, #verbose = verbose,\n",
    "                                  output_dict=True,figsize=figsize,\n",
    "                                         colorbar=colorbar, cmap=cmap_test,\n",
    "                                    label='Test Data' )\n",
    "    if output_dict == True:\n",
    "        # Store results in a dataframe if ouput_frame is True\n",
    "        results_dict = {'train':results_train,\n",
    "                    'test': results_test}\n",
    "        return results_dict"
   ]
  },
  {
   "cell_type": "code",
   "execution_count": 63,
   "id": "11183465-ee89-4f77-be95-85c7df4f4613",
   "metadata": {},
   "outputs": [
    {
     "name": "stdout",
     "output_type": "stream",
     "text": [
      "----------------------------------------------------------------------\n",
      " Classification Metrics: Training Data\n",
      "----------------------------------------------------------------------\n",
      "              precision    recall  f1-score   support\n",
      "\n",
      "           0       0.83      1.00      0.90      4085\n",
      "           1       0.49      0.04      0.08       437\n",
      "           2       0.68      0.04      0.08       460\n",
      "\n",
      "    accuracy                           0.82      4982\n",
      "   macro avg       0.66      0.36      0.35      4982\n",
      "weighted avg       0.78      0.82      0.75      4982\n",
      "\n"
     ]
    },
    {
     "data": {
      "image/png": "[encoded data removed]",
      "text/plain": [
       "<Figure size 600x400 with 2 Axes>"
      ]
     },
     "metadata": {},
     "output_type": "display_data"
    },
    {
     "name": "stdout",
     "output_type": "stream",
     "text": [
      "\n",
      "----------------------------------------------------------------------\n",
      " Classification Metrics: Test Data\n",
      "----------------------------------------------------------------------\n",
      "              precision    recall  f1-score   support\n",
      "\n",
      "           0       0.83      0.99      0.90      1367\n",
      "           1       0.25      0.03      0.05       150\n",
      "           2       0.27      0.02      0.04       144\n",
      "\n",
      "    accuracy                           0.82      1661\n",
      "   macro avg       0.45      0.35      0.33      1661\n",
      "weighted avg       0.73      0.82      0.75      1661\n",
      "\n"
     ]
    },
    {
     "data": {
      "image/png": "[encoded data removed]",
      "text/plain": [
       "<Figure size 600x400 with 2 Axes>"
      ]
     },
     "metadata": {},
     "output_type": "display_data"
    }
   ],
   "source": [
    "evaluate_classification(neigh, trainx_tf,trainy, testx_tf, testy)"
   ]
  },
  {
   "cell_type": "markdown",
   "id": "56624322-38ab-44fc-8c9b-34711fac886f",
   "metadata": {},
   "source": [
    "### 4. Transform the data with PCA​"
   ]
  },
  {
   "cell_type": "code",
   "execution_count": 80,
   "id": "8b36c7aa-061e-4d51-8296-0e6df15a9215",
   "metadata": {},
   "outputs": [
    {
     "data": {
      "text/html": [
       "<div>\n",
       "<style scoped>\n",
       "    .dataframe tbody tr th:only-of-type {\n",
       "        vertical-align: middle;\n",
       "    }\n",
       "\n",
       "    .dataframe tbody tr th {\n",
       "        vertical-align: top;\n",
       "    }\n",
       "\n",
       "    .dataframe thead th {\n",
       "        text-align: right;\n",
       "    }\n",
       "</style>\n",
       "<table border=\"1\" class=\"dataframe\">\n",
       "  <thead>\n",
       "    <tr style=\"text-align: right;\">\n",
       "      <th></th>\n",
       "      <th>0</th>\n",
       "      <th>1</th>\n",
       "      <th>2</th>\n",
       "      <th>3</th>\n",
       "      <th>4</th>\n",
       "      <th>5</th>\n",
       "      <th>6</th>\n",
       "      <th>7</th>\n",
       "      <th>8</th>\n",
       "      <th>9</th>\n",
       "      <th>...</th>\n",
       "      <th>89</th>\n",
       "      <th>90</th>\n",
       "      <th>91</th>\n",
       "      <th>92</th>\n",
       "      <th>93</th>\n",
       "      <th>94</th>\n",
       "      <th>95</th>\n",
       "      <th>96</th>\n",
       "      <th>97</th>\n",
       "      <th>98</th>\n",
       "    </tr>\n",
       "  </thead>\n",
       "  <tbody>\n",
       "    <tr>\n",
       "      <th>0</th>\n",
       "      <td>-3.649680</td>\n",
       "      <td>0.764648</td>\n",
       "      <td>1.709007</td>\n",
       "      <td>-1.123493</td>\n",
       "      <td>-0.385363</td>\n",
       "      <td>-0.828005</td>\n",
       "      <td>-0.084729</td>\n",
       "      <td>-0.181392</td>\n",
       "      <td>0.786301</td>\n",
       "      <td>-0.028242</td>\n",
       "      <td>...</td>\n",
       "      <td>0.415098</td>\n",
       "      <td>-0.064180</td>\n",
       "      <td>0.012142</td>\n",
       "      <td>0.278319</td>\n",
       "      <td>0.029929</td>\n",
       "      <td>0.193466</td>\n",
       "      <td>0.112053</td>\n",
       "      <td>-0.319073</td>\n",
       "      <td>0.175273</td>\n",
       "      <td>-0.181487</td>\n",
       "    </tr>\n",
       "    <tr>\n",
       "      <th>1</th>\n",
       "      <td>-4.499968</td>\n",
       "      <td>2.256458</td>\n",
       "      <td>0.202801</td>\n",
       "      <td>-2.603137</td>\n",
       "      <td>0.878943</td>\n",
       "      <td>0.568911</td>\n",
       "      <td>-1.577361</td>\n",
       "      <td>-1.386312</td>\n",
       "      <td>-0.349421</td>\n",
       "      <td>-1.068728</td>\n",
       "      <td>...</td>\n",
       "      <td>0.397013</td>\n",
       "      <td>0.243662</td>\n",
       "      <td>0.401354</td>\n",
       "      <td>0.202655</td>\n",
       "      <td>0.444708</td>\n",
       "      <td>-0.782406</td>\n",
       "      <td>0.010937</td>\n",
       "      <td>0.079925</td>\n",
       "      <td>0.128944</td>\n",
       "      <td>0.191770</td>\n",
       "    </tr>\n",
       "    <tr>\n",
       "      <th>2</th>\n",
       "      <td>-3.733771</td>\n",
       "      <td>-1.710261</td>\n",
       "      <td>-0.506078</td>\n",
       "      <td>-1.630900</td>\n",
       "      <td>1.000118</td>\n",
       "      <td>-0.755961</td>\n",
       "      <td>0.428712</td>\n",
       "      <td>-1.465199</td>\n",
       "      <td>0.430562</td>\n",
       "      <td>1.163332</td>\n",
       "      <td>...</td>\n",
       "      <td>0.188764</td>\n",
       "      <td>-0.193246</td>\n",
       "      <td>-0.193239</td>\n",
       "      <td>0.036772</td>\n",
       "      <td>-0.556546</td>\n",
       "      <td>-0.009050</td>\n",
       "      <td>-0.198828</td>\n",
       "      <td>0.207212</td>\n",
       "      <td>0.115774</td>\n",
       "      <td>0.084848</td>\n",
       "    </tr>\n",
       "    <tr>\n",
       "      <th>3</th>\n",
       "      <td>-0.064294</td>\n",
       "      <td>0.613961</td>\n",
       "      <td>1.376443</td>\n",
       "      <td>1.926162</td>\n",
       "      <td>-1.452174</td>\n",
       "      <td>-0.440674</td>\n",
       "      <td>-0.373216</td>\n",
       "      <td>-0.123226</td>\n",
       "      <td>0.106464</td>\n",
       "      <td>-0.011144</td>\n",
       "      <td>...</td>\n",
       "      <td>-0.295137</td>\n",
       "      <td>0.579797</td>\n",
       "      <td>0.273783</td>\n",
       "      <td>-0.019271</td>\n",
       "      <td>-0.067888</td>\n",
       "      <td>-0.243633</td>\n",
       "      <td>0.006115</td>\n",
       "      <td>0.064843</td>\n",
       "      <td>-0.368699</td>\n",
       "      <td>-0.273660</td>\n",
       "    </tr>\n",
       "    <tr>\n",
       "      <th>4</th>\n",
       "      <td>8.389199</td>\n",
       "      <td>-3.711440</td>\n",
       "      <td>-1.582764</td>\n",
       "      <td>-0.216283</td>\n",
       "      <td>1.493663</td>\n",
       "      <td>-0.499062</td>\n",
       "      <td>0.533357</td>\n",
       "      <td>0.517210</td>\n",
       "      <td>2.802661</td>\n",
       "      <td>0.194003</td>\n",
       "      <td>...</td>\n",
       "      <td>0.013191</td>\n",
       "      <td>-0.190991</td>\n",
       "      <td>-0.600774</td>\n",
       "      <td>0.161755</td>\n",
       "      <td>0.731824</td>\n",
       "      <td>0.109117</td>\n",
       "      <td>-0.115755</td>\n",
       "      <td>-1.831016</td>\n",
       "      <td>1.866566</td>\n",
       "      <td>1.684008</td>\n",
       "    </tr>\n",
       "  </tbody>\n",
       "</table>\n",
       "<p>5 rows × 99 columns</p>\n",
       "</div>"
      ],
      "text/plain": [
       "         0         1         2         3         4         5         6   \\\n",
       "0 -3.649680  0.764648  1.709007 -1.123493 -0.385363 -0.828005 -0.084729   \n",
       "1 -4.499968  2.256458  0.202801 -2.603137  0.878943  0.568911 -1.577361   \n",
       "2 -3.733771 -1.710261 -0.506078 -1.630900  1.000118 -0.755961  0.428712   \n",
       "3 -0.064294  0.613961  1.376443  1.926162 -1.452174 -0.440674 -0.373216   \n",
       "4  8.389199 -3.711440 -1.582764 -0.216283  1.493663 -0.499062  0.533357   \n",
       "\n",
       "         7         8         9   ...        89        90        91        92  \\\n",
       "0 -0.181392  0.786301 -0.028242  ...  0.415098 -0.064180  0.012142  0.278319   \n",
       "1 -1.386312 -0.349421 -1.068728  ...  0.397013  0.243662  0.401354  0.202655   \n",
       "2 -1.465199  0.430562  1.163332  ...  0.188764 -0.193246 -0.193239  0.036772   \n",
       "3 -0.123226  0.106464 -0.011144  ... -0.295137  0.579797  0.273783 -0.019271   \n",
       "4  0.517210  2.802661  0.194003  ...  0.013191 -0.190991 -0.600774  0.161755   \n",
       "\n",
       "         93        94        95        96        97        98  \n",
       "0  0.029929  0.193466  0.112053 -0.319073  0.175273 -0.181487  \n",
       "1  0.444708 -0.782406  0.010937  0.079925  0.128944  0.191770  \n",
       "2 -0.556546 -0.009050 -0.198828  0.207212  0.115774  0.084848  \n",
       "3 -0.067888 -0.243633  0.006115  0.064843 -0.368699 -0.273660  \n",
       "4  0.731824  0.109117 -0.115755 -1.831016  1.866566  1.684008  \n",
       "\n",
       "[5 rows x 99 columns]"
      ]
     },
     "execution_count": 80,
     "metadata": {},
     "output_type": "execute_result"
    }
   ],
   "source": [
    "pca = PCA(n_components=.95)\n",
    "Xtrain_pca = pca.fit_transform(trainx_tf)\n",
    "Xtest_pca = pca.transform(testx_tf)\n",
    "Xtrain_pca=pd.DataFrame(Xtrain_pca)\n",
    "Xtrain_pca.head()"
   ]
  },
  {
   "cell_type": "markdown",
   "id": "a4a0cd73-cd2f-451d-a164-5fce1fcdf893",
   "metadata": {},
   "source": [
    "PCA created 99 principal component "
   ]
  },
  {
   "cell_type": "markdown",
   "id": "6a79dc39-6a78-44c6-a48c-e718caae1140",
   "metadata": {},
   "source": [
    "### 5. Model - With PCA"
   ]
  },
  {
   "cell_type": "code",
   "execution_count": 81,
   "id": "8d98c859-c750-4ca0-9056-bc6f1b92864c",
   "metadata": {},
   "outputs": [
    {
     "data": {
      "text/html": [
       "<style>#sk-container-id-8 {color: black;background-color: white;}#sk-container-id-8 pre{padding: 0;}#sk-container-id-8 div.sk-toggleable {background-color: white;}#sk-container-id-8 label.sk-toggleable__label {cursor: pointer;display: block;width: 100%;margin-bottom: 0;padding: 0.3em;box-sizing: border-box;text-align: center;}#sk-container-id-8 label.sk-toggleable__label-arrow:before {content: \"▸\";float: left;margin-right: 0.25em;color: #696969;}#sk-container-id-8 label.sk-toggleable__label-arrow:hover:before {color: black;}#sk-container-id-8 div.sk-estimator:hover label.sk-toggleable__label-arrow:before {color: black;}#sk-container-id-8 div.sk-toggleable__content {max-height: 0;max-width: 0;overflow: hidden;text-align: left;background-color: #f0f8ff;}#sk-container-id-8 div.sk-toggleable__content pre {margin: 0.2em;color: black;border-radius: 0.25em;background-color: #f0f8ff;}#sk-container-id-8 input.sk-toggleable__control:checked~div.sk-toggleable__content {max-height: 200px;max-width: 100%;overflow: auto;}#sk-container-id-8 input.sk-toggleable__control:checked~label.sk-toggleable__label-arrow:before {content: \"▾\";}#sk-container-id-8 div.sk-estimator input.sk-toggleable__control:checked~label.sk-toggleable__label {background-color: #d4ebff;}#sk-container-id-8 div.sk-label input.sk-toggleable__control:checked~label.sk-toggleable__label {background-color: #d4ebff;}#sk-container-id-8 input.sk-hidden--visually {border: 0;clip: rect(1px 1px 1px 1px);clip: rect(1px, 1px, 1px, 1px);height: 1px;margin: -1px;overflow: hidden;padding: 0;position: absolute;width: 1px;}#sk-container-id-8 div.sk-estimator {font-family: monospace;background-color: #f0f8ff;border: 1px dotted black;border-radius: 0.25em;box-sizing: border-box;margin-bottom: 0.5em;}#sk-container-id-8 div.sk-estimator:hover {background-color: #d4ebff;}#sk-container-id-8 div.sk-parallel-item::after {content: \"\";width: 100%;border-bottom: 1px solid gray;flex-grow: 1;}#sk-container-id-8 div.sk-label:hover label.sk-toggleable__label {background-color: #d4ebff;}#sk-container-id-8 div.sk-serial::before {content: \"\";position: absolute;border-left: 1px solid gray;box-sizing: border-box;top: 0;bottom: 0;left: 50%;z-index: 0;}#sk-container-id-8 div.sk-serial {display: flex;flex-direction: column;align-items: center;background-color: white;padding-right: 0.2em;padding-left: 0.2em;position: relative;}#sk-container-id-8 div.sk-item {position: relative;z-index: 1;}#sk-container-id-8 div.sk-parallel {display: flex;align-items: stretch;justify-content: center;background-color: white;position: relative;}#sk-container-id-8 div.sk-item::before, #sk-container-id-8 div.sk-parallel-item::before {content: \"\";position: absolute;border-left: 1px solid gray;box-sizing: border-box;top: 0;bottom: 0;left: 50%;z-index: -1;}#sk-container-id-8 div.sk-parallel-item {display: flex;flex-direction: column;z-index: 1;position: relative;background-color: white;}#sk-container-id-8 div.sk-parallel-item:first-child::after {align-self: flex-end;width: 50%;}#sk-container-id-8 div.sk-parallel-item:last-child::after {align-self: flex-start;width: 50%;}#sk-container-id-8 div.sk-parallel-item:only-child::after {width: 0;}#sk-container-id-8 div.sk-dashed-wrapped {border: 1px dashed gray;margin: 0 0.4em 0.5em 0.4em;box-sizing: border-box;padding-bottom: 0.4em;background-color: white;}#sk-container-id-8 div.sk-label label {font-family: monospace;font-weight: bold;display: inline-block;line-height: 1.2em;}#sk-container-id-8 div.sk-label-container {text-align: center;}#sk-container-id-8 div.sk-container {/* jupyter's `normalize.less` sets `[hidden] { display: none; }` but bootstrap.min.css set `[hidden] { display: none !important; }` so we also need the `!important` here to be able to override the default hidden behavior on the sphinx rendered scikit-learn.org. See: https://github.com/scikit-learn/scikit-learn/issues/21755 */display: inline-block !important;position: relative;}#sk-container-id-8 div.sk-text-repr-fallback {display: none;}</style><div id=\"sk-container-id-8\" class=\"sk-top-container\"><div class=\"sk-text-repr-fallback\"><pre>KNeighborsClassifier()</pre><b>In a Jupyter environment, please rerun this cell to show the HTML representation or trust the notebook. <br />On GitHub, the HTML representation is unable to render, please try loading this page with nbviewer.org.</b></div><div class=\"sk-container\" hidden><div class=\"sk-item\"><div class=\"sk-estimator sk-toggleable\"><input class=\"sk-toggleable__control sk-hidden--visually\" id=\"sk-estimator-id-8\" type=\"checkbox\" checked><label for=\"sk-estimator-id-8\" class=\"sk-toggleable__label sk-toggleable__label-arrow\">KNeighborsClassifier</label><div class=\"sk-toggleable__content\"><pre>KNeighborsClassifier()</pre></div></div></div></div></div>"
      ],
      "text/plain": [
       "KNeighborsClassifier()"
      ]
     },
     "execution_count": 81,
     "metadata": {},
     "output_type": "execute_result"
    }
   ],
   "source": [
    "#​​Fit a default KNN model to the PCA data.\n",
    "neigh.fit(Xtrain_pca, trainy)"
   ]
  },
  {
   "cell_type": "code",
   "execution_count": 82,
   "id": "bd9515f2-d3eb-4308-91d2-7f4e718d1f49",
   "metadata": {},
   "outputs": [
    {
     "name": "stdout",
     "output_type": "stream",
     "text": [
      "CPU times: total: 1.44 s\n",
      "Wall time: 238 ms\n"
     ]
    }
   ],
   "source": [
    "%%time\n",
    "preds_pca = neigh.predict(Xtest_pca)"
   ]
  },
  {
   "cell_type": "code",
   "execution_count": 83,
   "id": "846d4fcb-5e46-4153-a64c-0d53feff585e",
   "metadata": {},
   "outputs": [
    {
     "name": "stdout",
     "output_type": "stream",
     "text": [
      "----------------------------------------------------------------------\n",
      " Classification Metrics: Training Data\n",
      "----------------------------------------------------------------------\n",
      "              precision    recall  f1-score   support\n",
      "\n",
      "           0       0.83      1.00      0.90      4085\n",
      "           1       0.50      0.05      0.09       437\n",
      "           2       0.68      0.04      0.08       460\n",
      "\n",
      "    accuracy                           0.82      4982\n",
      "   macro avg       0.67      0.36      0.36      4982\n",
      "weighted avg       0.79      0.82      0.76      4982\n",
      "\n"
     ]
    },
    {
     "data": {
      "image/png": "[encoded data removed]",
      "text/plain": [
       "<Figure size 600x400 with 2 Axes>"
      ]
     },
     "metadata": {},
     "output_type": "display_data"
    },
    {
     "name": "stdout",
     "output_type": "stream",
     "text": [
      "\n",
      "----------------------------------------------------------------------\n",
      " Classification Metrics: Test Data\n",
      "----------------------------------------------------------------------\n",
      "              precision    recall  f1-score   support\n",
      "\n",
      "           0       0.83      0.99      0.90      1367\n",
      "           1       0.19      0.02      0.04       150\n",
      "           2       0.20      0.01      0.03       144\n",
      "\n",
      "    accuracy                           0.82      1661\n",
      "   macro avg       0.40      0.34      0.32      1661\n",
      "weighted avg       0.71      0.82      0.75      1661\n",
      "\n"
     ]
    },
    {
     "data": {
      "image/png": "[encoded data removed]",
      "text/plain": [
       "<Figure size 600x400 with 2 Axes>"
      ]
     },
     "metadata": {},
     "output_type": "display_data"
    }
   ],
   "source": [
    "#Evaluate the model using multiple appropriate metrics\n",
    "evaluate_classification(neigh, Xtrain_pca,trainy, Xtest_pca, testy)"
   ]
  },
  {
   "cell_type": "markdown",
   "id": "d61658ae-b5cd-4aaa-b71f-2c1a38563394",
   "metadata": {},
   "source": [
    "### 6. Compare the models"
   ]
  },
  {
   "cell_type": "markdown",
   "id": "d8bb1fbe-3785-4777-a36a-d64f8018a25e",
   "metadata": {},
   "source": [
    "Q1. How many features were used in the first model, and how many PCs were used in the PCA model? \n",
    "first model: all features were used in the first model (168)\n",
    "PCA model: 166 PCs"
   ]
  },
  {
   "cell_type": "markdown",
   "id": "8344f920-9d3b-48e5-977b-4a4d517d2a39",
   "metadata": {},
   "source": [
    "Q2. Which model performed the best on the test set?\n",
    "The classification metrics shows that models performed similary "
   ]
  },
  {
   "cell_type": "markdown",
   "id": "6d0bdaeb-2b83-46f5-9843-c68a4b1b6c5f",
   "metadata": {},
   "source": [
    "Q3. Which model was the fastest at making predictions?\n",
    "the model with PCA model was the fastest at making predictions it tooks 1.44s as CPU time instead of 4.92s of CPU time for the first one. "
   ]
  }
 ],
 "metadata": {
  "kernelspec": {
   "display_name": "Python 3 (ipykernel)",
   "language": "python",
   "name": "python3"
  },
  "language_info": {
   "codemirror_mode": {
    "name": "ipython",
    "version": 3
   },
   "file_extension": ".py",
   "mimetype": "text/x-python",
   "name": "python",
   "nbconvert_exporter": "python",
   "pygments_lexer": "ipython3",
   "version": "3.10.10"
  },
  "widgets": {
   "application/vnd.jupyter.widget-state+json": {
    "state": {},
    "version_major": 2,
    "version_minor": 0
   }
  }
 },
 "nbformat": 4,
 "nbformat_minor": 5
}
